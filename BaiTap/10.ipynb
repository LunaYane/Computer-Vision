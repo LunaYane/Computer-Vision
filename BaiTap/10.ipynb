{
 "cells": [
  {
   "cell_type": "code",
   "execution_count": 1,
   "id": "fef290e1-97a2-4617-a732-5ac3f9caa30e",
   "metadata": {},
   "outputs": [],
   "source": [
    "#import thư viện\n",
    "from PIL import Image\n",
    "import matplotlib.pyplot as plt"
   ]
  },
  {
   "cell_type": "code",
   "execution_count": 12,
   "id": "87eb7294-bd79-44f5-b0c9-43822eeacebc",
   "metadata": {},
   "outputs": [
    {
     "name": "stdout",
     "output_type": "stream",
     "text": [
      "[(96.67748917748918, 402.54761904761904), (692.487012987013, 380.2445887445887), (334.0454545454546, 561.8549783549784), (550.7034632034632, 106.23593073593065), (187.48268398268402, 90.30519480519479)]\n"
     ]
    }
   ],
   "source": [
    "# Đường dẫn ảnh\n",
    "my_path = 'C:/Users/pc/OneDrive/Pictures/Mihoyo/eat.jpg'\n",
    "\n",
    "#đọc ảnh\n",
    "im = Image.open(my_path)\n",
    "\n",
    "#chuyển đổi backend\n",
    "plt.switch_backend('tkagg')\n",
    "\n",
    "#hiển thị ảnh\n",
    "plt.imshow(im)\n",
    "plt.title(\"click on the image to select points\")\n",
    "\n",
    "#sử dụng hàm giput để chọn điểm trên ảnh\n",
    "points = plt.ginput(5)\n",
    "\n",
    "print(points)\n",
    "\n",
    "#hiển thị\n",
    "plt.show()"
   ]
  },
  {
   "cell_type": "code",
   "execution_count": null,
   "id": "42418421-67ce-4499-a673-5441e483f526",
   "metadata": {},
   "outputs": [],
   "source": [
    "#vẽ lại các điểm đã chọn bằng đấu * màu đỏ\n",
    "plt.close()\n",
    "\n",
    "#vẽ lại\n",
    "plt.imshow(im)\n",
    "for point in points:\n",
    "    x,y = point\n",
    "    plt.plot(x,y, 'r*')\n",
    "\n",
    "plt.show()"
   ]
  },
  {
   "cell_type": "code",
   "execution_count": null,
   "id": "3c9bf064-c3fd-40a6-b599-47d66e08d3dd",
   "metadata": {},
   "outputs": [],
   "source": []
  }
 ],
 "metadata": {
  "kernelspec": {
   "display_name": "Python 3 (ipykernel)",
   "language": "python",
   "name": "python3"
  },
  "language_info": {
   "codemirror_mode": {
    "name": "ipython",
    "version": 3
   },
   "file_extension": ".py",
   "mimetype": "text/x-python",
   "name": "python",
   "nbconvert_exporter": "python",
   "pygments_lexer": "ipython3",
   "version": "3.12.4"
  }
 },
 "nbformat": 4,
 "nbformat_minor": 5
}
