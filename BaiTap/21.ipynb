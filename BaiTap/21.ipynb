{
 "cells": [
  {
   "cell_type": "code",
   "execution_count": 2,
   "id": "9de8a7b5-b75e-4881-8e02-c3bafc69182f",
   "metadata": {},
   "outputs": [],
   "source": [
    "import cv2"
   ]
  },
  {
   "cell_type": "code",
   "execution_count": 13,
   "id": "5eb47585-9c56-442b-8f0f-f3fb8d92b1c1",
   "metadata": {},
   "outputs": [],
   "source": [
    "#Đọc video từ file\n",
    "my_video = cv2.VideoCapture('C:/Users/pc/OneDrive/Pictures/Mihoyo/Video.mp4')"
   ]
  },
  {
   "cell_type": "code",
   "execution_count": 6,
   "id": "6fa1e079-bbb1-408c-a312-9f376d5babd5",
   "metadata": {},
   "outputs": [],
   "source": [
    "#Tạo cửa sổ để hiển thị\n",
    "cv2.namedWindow('Video Player', cv2.WINDOW_NORMAL)"
   ]
  },
  {
   "cell_type": "code",
   "execution_count": 8,
   "id": "c22db852-47a7-4045-a62d-8a042900e6f3",
   "metadata": {},
   "outputs": [],
   "source": [
    "#Hiển thị từng khung ảnh\n",
    "while True:\n",
    "    # Đọc 1 frame\n",
    "    ret, frame = my_video.read()\n",
    "    \n",
    "#Thoát khi không thể đọc được frame\n",
    "    if not ret:\n",
    "        break\n",
    "    \n",
    "#Hiển thị\n",
    "    cv2.imshow('Video Player', frame)\n",
    "    \n",
    "    if(cv2.waitKey(20)==ord('q')):\n",
    "        break"
   ]
  },
  {
   "cell_type": "code",
   "execution_count": 10,
   "id": "cc659d91-c8f9-4140-b738-4f63618f0f18",
   "metadata": {},
   "outputs": [],
   "source": [
    "#Hủy bỏ player\n",
    "my_video.release\n",
    "cv2.destroyAllWindows()"
   ]
  },
  {
   "cell_type": "code",
   "execution_count": null,
   "id": "c5ef21ca-1f0d-48f5-bc35-69e1e275a94e",
   "metadata": {},
   "outputs": [],
   "source": []
  }
 ],
 "metadata": {
  "kernelspec": {
   "display_name": "Python 3 (ipykernel)",
   "language": "python",
   "name": "python3"
  },
  "language_info": {
   "codemirror_mode": {
    "name": "ipython",
    "version": 3
   },
   "file_extension": ".py",
   "mimetype": "text/x-python",
   "name": "python",
   "nbconvert_exporter": "python",
   "pygments_lexer": "ipython3",
   "version": "3.12.4"
  }
 },
 "nbformat": 4,
 "nbformat_minor": 5
}
